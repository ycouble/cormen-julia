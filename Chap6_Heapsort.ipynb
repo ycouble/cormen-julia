{
 "cells": [
  {
   "cell_type": "markdown",
   "metadata": {},
   "source": [
    "## Heap"
   ]
  },
  {
   "cell_type": "code",
   "execution_count": 1,
   "metadata": {},
   "outputs": [],
   "source": [
    "left(i) = i << 1\n",
    "right(i) = i << 1 + 1\n",
    "parent(i) = i >> 1\n",
    "mutable struct Heap\n",
    "    a::Array\n",
    "    l::Int\n",
    "    hs::Int\n",
    "end"
   ]
  },
  {
   "cell_type": "code",
   "execution_count": null,
   "metadata": {},
   "outputs": [],
   "source": [
    "function max_heapify(A::Heap, i::Int)\n",
    "    l, r = left(i), right(i)\n",
    "    "
   ]
  }
 ],
 "metadata": {
  "kernelspec": {
   "display_name": "Julia 1.3.1",
   "language": "julia",
   "name": "julia-1.3"
  },
  "language_info": {
   "file_extension": ".jl",
   "mimetype": "application/julia",
   "name": "julia",
   "version": "1.3.1"
  }
 },
 "nbformat": 4,
 "nbformat_minor": 2
}
