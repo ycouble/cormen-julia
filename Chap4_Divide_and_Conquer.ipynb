{
 "cells": [
  {
   "cell_type": "markdown",
   "metadata": {},
   "source": [
    "## 4.1 The maximum subarray problem"
   ]
  },
  {
   "cell_type": "code",
   "execution_count": 22,
   "metadata": {},
   "outputs": [
    {
     "data": {
      "text/plain": [
       "find_max_sub (generic function with 1 method)"
      ]
     },
     "execution_count": 22,
     "metadata": {},
     "output_type": "execute_result"
    }
   ],
   "source": [
    "function find_max_sub(A, low, high)\n",
    "    if low == high\n",
    "        return (A[low], low, low)\n",
    "    end\n",
    "    mid = div(low+high, 2)\n",
    "    sum_left, low_left, high_left = find_max_sub(A, low, mid)\n",
    "    sum_right, low_right, high_right = find_max_sub(A, mid + 1, high)\n",
    "    sum_cross, low_cross, high_cross = find_max_cross_sub(A, low, mid, high)\n",
    "    if sum_left >= sum_right\n",
    "        if sum_left >= sum_cross\n",
    "            println(sum_left, low_left, high_left)\n",
    "            return (sum_left, low_left, high_left)\n",
    "        else\n",
    "            println(sum_cross, low_cross, high_cross)\n",
    "            return (sum_cross, low_cross, high_cross)\n",
    "        end\n",
    "    elseif sum_right >= sum_cross\n",
    "        println(sum_right, low_right, high_right)\n",
    "        return (sum_right, low_right, high_right)\n",
    "    else\n",
    "        println(sum_cross, low_cross, high_cross)\n",
    "        return (sum_cross, low_cross, high_cross)\n",
    "    end\n",
    "end"
   ]
  },
  {
   "cell_type": "code",
   "execution_count": 25,
   "metadata": {},
   "outputs": [
    {
     "data": {
      "text/plain": [
       "find_max_cross_sub (generic function with 1 method)"
      ]
     },
     "execution_count": 25,
     "metadata": {},
     "output_type": "execute_result"
    }
   ],
   "source": [
    "function find_max_cross_sub(A, low, mid, high)\n",
    "    sum, leftsum = 0, typemin(Int)\n",
    "    maxleft, maxright = mid, mid\n",
    "    for i in mid:-1:low\n",
    "        sum += A[i]\n",
    "        if sum > leftsum\n",
    "            leftsum = sum\n",
    "            maxleft = i\n",
    "        end\n",
    "    end\n",
    "    sum, rightsum = 0, typemin(Int)\n",
    "    for i in mid+1:high\n",
    "        sum += A[i]\n",
    "        if sum > rightsum\n",
    "            rightsum = sum\n",
    "            maxright = i\n",
    "        end\n",
    "    end\n",
    "    println(maxleft, maxright, leftsum + rightsum)\n",
    "    return (maxleft, maxright, leftsum + rightsum)\n",
    "end"
   ]
  },
  {
   "cell_type": "code",
   "execution_count": 26,
   "metadata": {},
   "outputs": [
    {
     "name": "stdout",
     "output_type": "stream",
     "text": [
      "123\n",
      "222\n",
      "132\n",
      "222\n",
      "451\n",
      "451\n",
      "153\n",
      "451\n",
      "670\n",
      "670\n",
      "68-3\n",
      "670\n",
      "910-2\n",
      "910-2\n",
      "810-5\n",
      "910-2\n",
      "167\n",
      "910-2\n",
      "11126\n",
      "11126\n",
      "11139\n",
      "11126\n",
      "14156\n",
      "14156\n",
      "111515\n",
      "14156\n",
      "1617-1\n",
      "1617-1\n",
      "1718-3\n",
      "1718-3\n",
      "1920-11\n",
      "1920-11\n",
      "1719-8\n",
      "1920-11\n",
      "111714\n",
      "1920-11\n",
      "101518\n",
      "1920-11\n"
     ]
    },
    {
     "data": {
      "text/plain": [
       "(19, 20, -11)"
      ]
     },
     "execution_count": 26,
     "metadata": {},
     "output_type": "execute_result"
    }
   ],
   "source": [
    "a = [1, 2, -1, -1, 2, 4, -4, -3, -5, 3, 3, 3, 3, 3, 3, -2, 1, -4, -5, -6]\n",
    "find_max_sub(a, 1, length(a))"
   ]
  },
  {
   "cell_type": "code",
   "execution_count": null,
   "metadata": {},
   "outputs": [],
   "source": []
  }
 ],
 "metadata": {
  "kernelspec": {
   "display_name": "Julia 1.3.1",
   "language": "julia",
   "name": "julia-1.3"
  },
  "language_info": {
   "file_extension": ".jl",
   "mimetype": "application/julia",
   "name": "julia",
   "version": "1.3.1"
  }
 },
 "nbformat": 4,
 "nbformat_minor": 2
}
