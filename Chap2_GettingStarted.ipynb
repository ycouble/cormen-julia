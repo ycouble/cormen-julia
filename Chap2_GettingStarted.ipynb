{
 "cells": [
  {
   "cell_type": "markdown",
   "metadata": {},
   "source": [
    "## 2.1 Insertion sort"
   ]
  },
  {
   "cell_type": "code",
   "execution_count": 82,
   "metadata": {},
   "outputs": [
    {
     "data": {
      "text/plain": [
       "myprint (generic function with 1 method)"
      ]
     },
     "execution_count": 82,
     "metadata": {},
     "output_type": "execute_result"
    }
   ],
   "source": [
    "function myprint(m; log=1)\n",
    "    log > 0 ? println(m) : nothing\n",
    "end"
   ]
  },
  {
   "cell_type": "code",
   "execution_count": 83,
   "metadata": {},
   "outputs": [
    {
     "data": {
      "text/plain": [
       "insertion_sort! (generic function with 1 method)"
      ]
     },
     "execution_count": 83,
     "metadata": {},
     "output_type": "execute_result"
    }
   ],
   "source": [
    "function insertion_sort!(a::Array; log=0)\n",
    "    for j in 2:length(a)\n",
    "        key = a[j]\n",
    "        myprint(\"j=$j, key=$key\", log=log)\n",
    "        i = j - 1\n",
    "        while i > 0 && a[i] > key\n",
    "            myprint(\"  i=$i $(a[i]) > $key\", log=log)\n",
    "            a[i+1] = a[i]\n",
    "            i -= 1\n",
    "        end\n",
    "        a[i+1] = key\n",
    "        myprint(\"stopped backward searching: \", log=log)\n",
    "        if i > 0\n",
    "            myprint(\"$(a[i]) <= $key\", log=log)\n",
    "        else\n",
    "            myprint(\"reached start of array\", log=log)\n",
    "        end\n",
    "        myprint(\"a = $a\", log=log)\n",
    "    end\n",
    "end"
   ]
  },
  {
   "cell_type": "code",
   "execution_count": 84,
   "metadata": {},
   "outputs": [
    {
     "name": "stdout",
     "output_type": "stream",
     "text": [
      "j=2, key=5\n",
      "stopped backward searching: \n",
      "2 <= 5\n",
      "a = [2, 5, 6, 1, 7, 19, 0, 1]\n",
      "j=3, key=6\n",
      "stopped backward searching: \n",
      "5 <= 6\n",
      "a = [2, 5, 6, 1, 7, 19, 0, 1]\n",
      "j=4, key=1\n",
      "  i=3 6 > 1\n",
      "  i=2 5 > 1\n",
      "  i=1 2 > 1\n",
      "stopped backward searching: \n",
      "reached start of array\n",
      "a = [1, 2, 5, 6, 7, 19, 0, 1]\n",
      "j=5, key=7\n",
      "stopped backward searching: \n",
      "6 <= 7\n",
      "a = [1, 2, 5, 6, 7, 19, 0, 1]\n",
      "j=6, key=19\n",
      "stopped backward searching: \n",
      "7 <= 19\n",
      "a = [1, 2, 5, 6, 7, 19, 0, 1]\n",
      "j=7, key=0\n",
      "  i=6 19 > 0\n",
      "  i=5 7 > 0\n",
      "  i=4 6 > 0\n",
      "  i=3 5 > 0\n",
      "  i=2 2 > 0\n",
      "  i=1 1 > 0\n",
      "stopped backward searching: \n",
      "reached start of array\n",
      "a = [0, 1, 2, 5, 6, 7, 19, 1]\n",
      "j=8, key=1\n",
      "  i=7 19 > 1\n",
      "  i=6 7 > 1\n",
      "  i=5 6 > 1\n",
      "  i=4 5 > 1\n",
      "  i=3 2 > 1\n",
      "stopped backward searching: \n",
      "1 <= 1\n",
      "a = [0, 1, 1, 2, 5, 6, 7, 19]\n"
     ]
    }
   ],
   "source": [
    "a = [2, 5, 6, 1, 7, 19, 0, 1]\n",
    "insertion_sort!(a, log=1)"
   ]
  },
  {
   "cell_type": "markdown",
   "metadata": {},
   "source": [
    "#### 2.1-3\n",
    "Consider the searching problem:\n",
    "- Input: A sequence of n numbers A = a1, a2, ... an and a value v\n",
    "- Output: An index i such that v = A(i) or the special value NIL if v does not appear in A.\n",
    "\n",
    "\n",
    "1. Write pseudocode for linear search, which scans through the sequence, looking for v. \n",
    "2. Using a loop invariant, prove that your algorithm is correct. \n",
    "3. Make sure that your loop invariant fulfills the three necessary properties."
   ]
  },
  {
   "cell_type": "code",
   "execution_count": 85,
   "metadata": {},
   "outputs": [
    {
     "data": {
      "text/plain": [
       "search_val (generic function with 1 method)"
      ]
     },
     "execution_count": 85,
     "metadata": {},
     "output_type": "execute_result"
    }
   ],
   "source": [
    "function insertion_sort(b; log=false)\n",
    "    myprint(\"======= INSERTION-SORT ========\", log=log)\n",
    "    a = copy(b)\n",
    "    for j in 2:length(a)\n",
    "        key = a[j][1]\n",
    "        item = a[j]\n",
    "        myprint(\"j=$j, key=$key\", log=log)\n",
    "        i = j - 1\n",
    "        while i > 0 && a[i][1] > key\n",
    "            myprint(\"  i=$i $(a[i][1]) > $key\", log=log)\n",
    "            a[i+1] = a[i]\n",
    "            i -= 1\n",
    "        end\n",
    "        a[i+1] = item\n",
    "        myprint(\"stopped backward searching: \", log=log)\n",
    "        if i > 0\n",
    "            myprint(\"$(a[i][1]) <= $key\", log=log)\n",
    "        else\n",
    "            myprint(\"reached start of array\", log=log)\n",
    "        end\n",
    "        myprint(\"a = $a\", log=log)\n",
    "    end\n",
    "    return a\n",
    "end\n",
    "\n",
    "function search_val(val, a; log=0)\n",
    "    b = insertion_sort(collect(zip(copy(a), 1:length(a))), log=log-1)\n",
    "    myprint(\"======= SEARCH IN SORTED TUPLE-LIST ========\")\n",
    "    for v in b\n",
    "        if v[1] < val\n",
    "            myprint(\"$(v[1]) < $val\", log=log)\n",
    "            continue\n",
    "        elseif v[1] == val\n",
    "            myprint(\"$(v[1]) == $val --> Found it !\", log=log)\n",
    "            return v[2]\n",
    "        else\n",
    "            myprint(\"$(v[1]) > $val: Won't find :(\", log=log)\n",
    "            return nothing\n",
    "        end\n",
    "    end\n",
    "end"
   ]
  },
  {
   "cell_type": "code",
   "execution_count": 86,
   "metadata": {},
   "outputs": [
    {
     "name": "stdout",
     "output_type": "stream",
     "text": [
      "======= SEARCH IN SORTED TUPLE-LIST ========\n",
      "1 < 15\n",
      "2 < 15\n",
      "4 < 15\n",
      "6 < 15\n",
      "15 == 15 --> Found it !\n"
     ]
    },
    {
     "data": {
      "text/plain": [
       "9"
      ]
     },
     "execution_count": 86,
     "metadata": {},
     "output_type": "execute_result"
    }
   ],
   "source": [
    "a = [4,1,6,19,45, 2, 36, 27, 15]\n",
    "search_val(15, a, log=1)"
   ]
  },
  {
   "cell_type": "code",
   "execution_count": 87,
   "metadata": {},
   "outputs": [
    {
     "data": {
      "text/html": [
       "<script>\n",
       "// Immediately-invoked-function-expression to avoid global variables.\n",
       "(function() {\n",
       "    var warning_div = document.getElementById(\"webio-warning-16281322405863532648\");\n",
       "    var hide = function () {\n",
       "        var script = document.getElementById(\"webio-setup-6233215155999686278\");\n",
       "        var parent = script && script.parentElement;\n",
       "        var grandparent = parent && parent.parentElement;\n",
       "        if (grandparent) {\n",
       "            grandparent.style.display = \"none\";\n",
       "        }\n",
       "        warning_div.style.display = \"none\";\n",
       "    };\n",
       "    if (typeof Jupyter !== \"undefined\") {\n",
       "        console.log(\"WebIO detected Jupyter notebook environment.\");\n",
       "        // Jupyter notebook.\n",
       "        var extensions = (\n",
       "            Jupyter\n",
       "            && Jupyter.notebook.config.data\n",
       "            && Jupyter.notebook.config.data.load_extensions\n",
       "        );\n",
       "        if (extensions && extensions[\"webio-jupyter-notebook\"]) {\n",
       "            // Extension already loaded.\n",
       "            console.log(\"Jupyter WebIO nbextension detected; not loading ad-hoc.\");\n",
       "            hide();\n",
       "            return;\n",
       "        }\n",
       "    } else if (window.location.pathname.includes(\"/lab\")) {\n",
       "        // Guessing JupyterLa\n",
       "        console.log(\"Jupyter Lab detected; make sure the @webio/jupyter-lab-provider labextension is installed.\");\n",
       "        hide();\n",
       "        return;\n",
       "    }\n",
       "})();\n",
       "\n",
       "</script>\n",
       "<p\n",
       "    id=\"webio-warning-16281322405863532648\"\n",
       "    class=\"output_text output_stderr\"\n",
       "    style=\"padding: 1em; font-weight: bold;\"\n",
       ">\n",
       "    Unable to load WebIO. Please make sure WebIO works for your Jupyter client.\n",
       "    For troubleshooting, please see <a href=\"https://juliagizmos.github.io/WebIO.jl/latest/providers/ijulia/\">\n",
       "    the WebIO/IJulia documentation</a>.\n",
       "    <!-- TODO: link to installation docs. -->\n",
       "</p>\n"
      ],
      "text/plain": [
       "HTML{String}(\"<script>\\n// Immediately-invoked-function-expression to avoid global variables.\\n(function() {\\n    var warning_div = document.getElementById(\\\"webio-warning-16281322405863532648\\\");\\n    var hide = function () {\\n        var script = document.getElementById(\\\"webio-setup-6233215155999686278\\\");\\n        var parent = script && script.parentElement;\\n        var grandparent = parent && parent.parentElement;\\n        if (grandparent) {\\n            grandparent.style.display = \\\"none\\\";\\n        }\\n        warning_div.style.display = \\\"none\\\";\\n    };\\n    if (typeof Jupyter !== \\\"undefined\\\") {\\n        console.log(\\\"WebIO detected Jupyter notebook environment.\\\");\\n        // Jupyter notebook.\\n        var extensions = (\\n            Jupyter\\n            && Jupyter.notebook.config.data\\n            && Jupyter.notebook.config.data.load_extensions\\n        );\\n        if (extensions && extensions[\\\"webio-jupyter-notebook\\\"]) {\\n            // Extension already loaded.\\n            console.log(\\\"Jupyter WebIO nbextension detected; not loading ad-hoc.\\\");\\n            hide();\\n            return;\\n        }\\n    } else if (window.location.pathname.includes(\\\"/lab\\\")) {\\n        // Guessing JupyterLa\\n        console.log(\\\"Jupyter Lab detected; make sure the @webio/jupyter-lab-provider labextension is installed.\\\");\\n        hide();\\n        return;\\n    }\\n})();\\n\\n</script>\\n<p\\n    id=\\\"webio-warning-16281322405863532648\\\"\\n    class=\\\"output_text output_stderr\\\"\\n    style=\\\"padding: 1em; font-weight: bold;\\\"\\n>\\n    Unable to load WebIO. Please make sure WebIO works for your Jupyter client.\\n    For troubleshooting, please see <a href=\\\"https://juliagizmos.github.io/WebIO.jl/latest/providers/ijulia/\\\">\\n    the WebIO/IJulia documentation</a>.\\n    <!-- TODO: link to installation docs. -->\\n</p>\\n\")"
      ]
     },
     "metadata": {},
     "output_type": "display_data"
    },
    {
     "data": {
      "text/html": [
       "    <script type=\"text/javascript\">\n",
       "        requirejs([\"https://cdn.plot.ly/plotly-latest.min.js\"], function(p) {\n",
       "            window.Plotly = p\n",
       "        });\n",
       "    </script>\n"
      ]
     },
     "metadata": {},
     "output_type": "display_data"
    },
    {
     "data": {
      "application/vnd.plotly.v1+json": {
       "data": [
        {
         "colorbar": {
          "title": ""
         },
         "hoverinfo": "text",
         "legendgroup": "y1",
         "line": {
          "color": "rgba(0, 154, 250, 1.000)",
          "dash": "solid",
          "shape": "linear",
          "width": 1
         },
         "mode": "lines",
         "name": "y1",
         "showlegend": true,
         "text": [
          null,
          null,
          null,
          null,
          null,
          null,
          null,
          null,
          null
         ],
         "type": "scatter",
         "x": [
          1,
          2,
          3,
          4,
          5,
          6,
          7,
          8,
          9
         ],
         "xaxis": "x1",
         "y": [
          4,
          1,
          6,
          19,
          45,
          2,
          36,
          27,
          15
         ],
         "yaxis": "y1",
         "zmax": null,
         "zmin": null
        },
        {
         "colorbar": {
          "title": ""
         },
         "hoverinfo": "text",
         "legendgroup": "y2",
         "line": {
          "color": "rgba(227, 111, 71, 1.000)",
          "dash": "solid",
          "shape": "linear",
          "width": 1
         },
         "mode": "lines",
         "name": "y2",
         "showlegend": true,
         "text": [
          null,
          null,
          null,
          null,
          null,
          null,
          null,
          null,
          null
         ],
         "type": "scatter",
         "x": [
          1,
          2,
          3,
          4,
          5,
          6,
          7,
          8,
          9
         ],
         "xaxis": "x1",
         "y": [
          1,
          2,
          4,
          6,
          15,
          19,
          27,
          36,
          45
         ],
         "yaxis": "y1",
         "zmax": null,
         "zmin": null
        }
       ],
       "layout": {
        "annotations": [],
        "height": 400,
        "legend": {
         "bgcolor": "rgba(255, 255, 255, 1.000)",
         "bordercolor": "rgba(0, 0, 0, 1.000)",
         "font": {
          "color": "rgba(0, 0, 0, 1.000)",
          "family": "sans-serif",
          "size": 11
         },
         "tracegroupgap": 0,
         "x": 1,
         "y": 1
        },
        "margin": {
         "b": 20,
         "l": 0,
         "r": 0,
         "t": 20
        },
        "paper_bgcolor": "rgba(255, 255, 255, 1.000)",
        "plot_bgcolor": "rgba(255, 255, 255, 1.000)",
        "showlegend": true,
        "width": 600,
        "xaxis": {
         "anchor": "y1",
         "domain": [
          0.03619130941965587,
          0.9934383202099738
         ],
         "gridcolor": "rgba(0, 0, 0, 0.100)",
         "gridwidth": 0.5,
         "linecolor": "rgba(0, 0, 0, 1.000)",
         "mirror": false,
         "range": [
          0.76,
          9.24
         ],
         "showgrid": true,
         "showline": true,
         "showticklabels": true,
         "tickangle": 0,
         "tickcolor": "rgb(0, 0, 0)",
         "tickfont": {
          "color": "rgba(0, 0, 0, 1.000)",
          "family": "sans-serif",
          "size": 11
         },
         "tickmode": "array",
         "ticks": "inside",
         "ticktext": [
          "2",
          "4",
          "6",
          "8"
         ],
         "tickvals": [
          2,
          4,
          6,
          8
         ],
         "title": "",
         "titlefont": {
          "color": "rgba(0, 0, 0, 1.000)",
          "family": "sans-serif",
          "size": 15
         },
         "type": "-",
         "visible": true,
         "zeroline": false,
         "zerolinecolor": "rgba(0, 0, 0, 1.000)"
        },
        "yaxis": {
         "anchor": "x1",
         "domain": [
          0.03762029746281716,
          0.9901574803149606
         ],
         "gridcolor": "rgba(0, 0, 0, 0.100)",
         "gridwidth": 0.5,
         "linecolor": "rgba(0, 0, 0, 1.000)",
         "mirror": false,
         "range": [
          -0.31999999999999984,
          46.32
         ],
         "showgrid": true,
         "showline": true,
         "showticklabels": true,
         "tickangle": 0,
         "tickcolor": "rgb(0, 0, 0)",
         "tickfont": {
          "color": "rgba(0, 0, 0, 1.000)",
          "family": "sans-serif",
          "size": 11
         },
         "tickmode": "array",
         "ticks": "inside",
         "ticktext": [
          "0",
          "10",
          "20",
          "30",
          "40"
         ],
         "tickvals": [
          0,
          10,
          20,
          30,
          40
         ],
         "title": "",
         "titlefont": {
          "color": "rgba(0, 0, 0, 1.000)",
          "family": "sans-serif",
          "size": 15
         },
         "type": "-",
         "visible": true,
         "zeroline": false,
         "zerolinecolor": "rgba(0, 0, 0, 1.000)"
        }
       }
      },
      "text/html": [
       "<!DOCTYPE html>\n",
       "<html>\n",
       "    <head>\n",
       "        <title>Plots.jl</title>\n",
       "        <meta http-equiv=\"content-type\" content=\"text/html; charset=UTF-8\">\n",
       "        <script src=\"https://cdn.plot.ly/plotly-latest.min.js\"></script>\n",
       "    </head>\n",
       "    <body>\n",
       "            <div id=\"ed611f46-ede3-4d13-9641-b11e57ba0fed\" style=\"width:600px;height:400px;\"></div>\n",
       "    <script>\n",
       "    PLOT = document.getElementById('ed611f46-ede3-4d13-9641-b11e57ba0fed');\n",
       "    Plotly.plot(PLOT, [\n",
       "    {\n",
       "        \"xaxis\": \"x1\",\n",
       "        \"colorbar\": {\n",
       "            \"title\": \"\"\n",
       "        },\n",
       "        \"yaxis\": \"y1\",\n",
       "        \"text\": [\n",
       "            null,\n",
       "            null,\n",
       "            null,\n",
       "            null,\n",
       "            null,\n",
       "            null,\n",
       "            null,\n",
       "            null,\n",
       "            null\n",
       "        ],\n",
       "        \"x\": [\n",
       "            1,\n",
       "            2,\n",
       "            3,\n",
       "            4,\n",
       "            5,\n",
       "            6,\n",
       "            7,\n",
       "            8,\n",
       "            9\n",
       "        ],\n",
       "        \"showlegend\": true,\n",
       "        \"mode\": \"lines\",\n",
       "        \"name\": \"y1\",\n",
       "        \"zmin\": null,\n",
       "        \"legendgroup\": \"y1\",\n",
       "        \"zmax\": null,\n",
       "        \"line\": {\n",
       "            \"color\": \"rgba(0, 154, 250, 1.000)\",\n",
       "            \"shape\": \"linear\",\n",
       "            \"dash\": \"solid\",\n",
       "            \"width\": 1\n",
       "        },\n",
       "        \"y\": [\n",
       "            4.0,\n",
       "            1.0,\n",
       "            6.0,\n",
       "            19.0,\n",
       "            45.0,\n",
       "            2.0,\n",
       "            36.0,\n",
       "            27.0,\n",
       "            15.0\n",
       "        ],\n",
       "        \"type\": \"scatter\",\n",
       "        \"hoverinfo\": \"text\"\n",
       "    },\n",
       "    {\n",
       "        \"xaxis\": \"x1\",\n",
       "        \"colorbar\": {\n",
       "            \"title\": \"\"\n",
       "        },\n",
       "        \"yaxis\": \"y1\",\n",
       "        \"text\": [\n",
       "            null,\n",
       "            null,\n",
       "            null,\n",
       "            null,\n",
       "            null,\n",
       "            null,\n",
       "            null,\n",
       "            null,\n",
       "            null\n",
       "        ],\n",
       "        \"x\": [\n",
       "            1,\n",
       "            2,\n",
       "            3,\n",
       "            4,\n",
       "            5,\n",
       "            6,\n",
       "            7,\n",
       "            8,\n",
       "            9\n",
       "        ],\n",
       "        \"showlegend\": true,\n",
       "        \"mode\": \"lines\",\n",
       "        \"name\": \"y2\",\n",
       "        \"zmin\": null,\n",
       "        \"legendgroup\": \"y2\",\n",
       "        \"zmax\": null,\n",
       "        \"line\": {\n",
       "            \"color\": \"rgba(227, 111, 71, 1.000)\",\n",
       "            \"shape\": \"linear\",\n",
       "            \"dash\": \"solid\",\n",
       "            \"width\": 1\n",
       "        },\n",
       "        \"y\": [\n",
       "            1.0,\n",
       "            2.0,\n",
       "            4.0,\n",
       "            6.0,\n",
       "            15.0,\n",
       "            19.0,\n",
       "            27.0,\n",
       "            36.0,\n",
       "            45.0\n",
       "        ],\n",
       "        \"type\": \"scatter\",\n",
       "        \"hoverinfo\": \"text\"\n",
       "    }\n",
       "]\n",
       ", {\n",
       "    \"showlegend\": true,\n",
       "    \"xaxis\": {\n",
       "        \"showticklabels\": true,\n",
       "        \"gridwidth\": 0.5,\n",
       "        \"tickvals\": [\n",
       "            2.0,\n",
       "            4.0,\n",
       "            6.0,\n",
       "            8.0\n",
       "        ],\n",
       "        \"visible\": true,\n",
       "        \"ticks\": \"inside\",\n",
       "        \"range\": [\n",
       "            0.76,\n",
       "            9.24\n",
       "        ],\n",
       "        \"domain\": [\n",
       "            0.03619130941965587,\n",
       "            0.9934383202099738\n",
       "        ],\n",
       "        \"tickmode\": \"array\",\n",
       "        \"linecolor\": \"rgba(0, 0, 0, 1.000)\",\n",
       "        \"showgrid\": true,\n",
       "        \"title\": \"\",\n",
       "        \"mirror\": false,\n",
       "        \"tickangle\": 0,\n",
       "        \"showline\": true,\n",
       "        \"gridcolor\": \"rgba(0, 0, 0, 0.100)\",\n",
       "        \"titlefont\": {\n",
       "            \"color\": \"rgba(0, 0, 0, 1.000)\",\n",
       "            \"family\": \"sans-serif\",\n",
       "            \"size\": 15\n",
       "        },\n",
       "        \"tickcolor\": \"rgb(0, 0, 0)\",\n",
       "        \"ticktext\": [\n",
       "            \"2\",\n",
       "            \"4\",\n",
       "            \"6\",\n",
       "            \"8\"\n",
       "        ],\n",
       "        \"zeroline\": false,\n",
       "        \"type\": \"-\",\n",
       "        \"tickfont\": {\n",
       "            \"color\": \"rgba(0, 0, 0, 1.000)\",\n",
       "            \"family\": \"sans-serif\",\n",
       "            \"size\": 11\n",
       "        },\n",
       "        \"zerolinecolor\": \"rgba(0, 0, 0, 1.000)\",\n",
       "        \"anchor\": \"y1\"\n",
       "    },\n",
       "    \"paper_bgcolor\": \"rgba(255, 255, 255, 1.000)\",\n",
       "    \"annotations\": [],\n",
       "    \"height\": 400,\n",
       "    \"margin\": {\n",
       "        \"l\": 0,\n",
       "        \"b\": 20,\n",
       "        \"r\": 0,\n",
       "        \"t\": 20\n",
       "    },\n",
       "    \"plot_bgcolor\": \"rgba(255, 255, 255, 1.000)\",\n",
       "    \"yaxis\": {\n",
       "        \"showticklabels\": true,\n",
       "        \"gridwidth\": 0.5,\n",
       "        \"tickvals\": [\n",
       "            0.0,\n",
       "            10.0,\n",
       "            20.0,\n",
       "            30.0,\n",
       "            40.0\n",
       "        ],\n",
       "        \"visible\": true,\n",
       "        \"ticks\": \"inside\",\n",
       "        \"range\": [\n",
       "            -0.31999999999999984,\n",
       "            46.32\n",
       "        ],\n",
       "        \"domain\": [\n",
       "            0.03762029746281716,\n",
       "            0.9901574803149606\n",
       "        ],\n",
       "        \"tickmode\": \"array\",\n",
       "        \"linecolor\": \"rgba(0, 0, 0, 1.000)\",\n",
       "        \"showgrid\": true,\n",
       "        \"title\": \"\",\n",
       "        \"mirror\": false,\n",
       "        \"tickangle\": 0,\n",
       "        \"showline\": true,\n",
       "        \"gridcolor\": \"rgba(0, 0, 0, 0.100)\",\n",
       "        \"titlefont\": {\n",
       "            \"color\": \"rgba(0, 0, 0, 1.000)\",\n",
       "            \"family\": \"sans-serif\",\n",
       "            \"size\": 15\n",
       "        },\n",
       "        \"tickcolor\": \"rgb(0, 0, 0)\",\n",
       "        \"ticktext\": [\n",
       "            \"0\",\n",
       "            \"10\",\n",
       "            \"20\",\n",
       "            \"30\",\n",
       "            \"40\"\n",
       "        ],\n",
       "        \"zeroline\": false,\n",
       "        \"type\": \"-\",\n",
       "        \"tickfont\": {\n",
       "            \"color\": \"rgba(0, 0, 0, 1.000)\",\n",
       "            \"family\": \"sans-serif\",\n",
       "            \"size\": 11\n",
       "        },\n",
       "        \"zerolinecolor\": \"rgba(0, 0, 0, 1.000)\",\n",
       "        \"anchor\": \"x1\"\n",
       "    },\n",
       "    \"legend\": {\n",
       "        \"tracegroupgap\": 0,\n",
       "        \"bordercolor\": \"rgba(0, 0, 0, 1.000)\",\n",
       "        \"bgcolor\": \"rgba(255, 255, 255, 1.000)\",\n",
       "        \"font\": {\n",
       "            \"color\": \"rgba(0, 0, 0, 1.000)\",\n",
       "            \"family\": \"sans-serif\",\n",
       "            \"size\": 11\n",
       "        },\n",
       "        \"y\": 1.0,\n",
       "        \"x\": 1.0\n",
       "    },\n",
       "    \"width\": 600\n",
       "}\n",
       ");\n",
       "    </script>\n",
       "\n",
       "    </body>\n",
       "</html>\n"
      ]
     },
     "execution_count": 87,
     "metadata": {},
     "output_type": "execute_result"
    }
   ],
   "source": [
    "using Plots\n",
    "plotlyjs()\n",
    "b = copy(a)\n",
    "insertion_sort!(b)\n",
    "plot(a)\n",
    "plot!(b)"
   ]
  },
  {
   "cell_type": "markdown",
   "metadata": {},
   "source": [
    "### 2.3 Designing algorithms"
   ]
  },
  {
   "cell_type": "code",
   "execution_count": 88,
   "metadata": {},
   "outputs": [
    {
     "data": {
      "text/plain": [
       "_merge! (generic function with 1 method)"
      ]
     },
     "execution_count": 88,
     "metadata": {},
     "output_type": "execute_result"
    }
   ],
   "source": [
    "function _merge!(A, p, q, r)\n",
    "    L, R = A[p:q], A[q+1:r]\n",
    "    push!(L, typemax(Int))\n",
    "    push!(R, typemax(Int))\n",
    "    # Merging\n",
    "    i = j = 1\n",
    "    for k in p:r\n",
    "        if L[i] < R[j]\n",
    "            A[k] = L[i]\n",
    "            i += 1\n",
    "        else\n",
    "            A[k] = R[j]\n",
    "            j += 1\n",
    "        end\n",
    "    end\n",
    "end"
   ]
  },
  {
   "cell_type": "code",
   "execution_count": 89,
   "metadata": {},
   "outputs": [
    {
     "data": {
      "text/plain": [
       "merge_sort! (generic function with 1 method)"
      ]
     },
     "execution_count": 89,
     "metadata": {},
     "output_type": "execute_result"
    }
   ],
   "source": [
    "function divide_and_sort!(A, p, q)\n",
    "    if p == q\n",
    "        nothing\n",
    "    else\n",
    "        m = div(p + q, 2)\n",
    "        divide_and_sort!(A, p, m)\n",
    "        divide_and_sort!(A, m+1, q)\n",
    "        _merge!(A, p, m, q)\n",
    "    end\n",
    "end\n",
    "\n",
    "function merge_sort!(A)\n",
    "    divide_and_sort!(A, 1, length(A))\n",
    "end"
   ]
  },
  {
   "cell_type": "markdown",
   "metadata": {},
   "source": [
    "#### Computational times comparison"
   ]
  },
  {
   "cell_type": "code",
   "execution_count": 106,
   "metadata": {},
   "outputs": [
    {
     "data": {
      "text/plain": [
       "compare_insertion_merge (generic function with 1 method)"
      ]
     },
     "execution_count": 106,
     "metadata": {},
     "output_type": "execute_result"
    }
   ],
   "source": [
    "function compare_insertion_merge(maxval)\n",
    "    A = shuffle(1:maxval)\n",
    "    B = copy(A)\n",
    "    _, t_insert = @timed insertion_sort!(A)\n",
    "    _, t_merge = @timed merge_sort!(B)\n",
    "    return (t_insert, t_merge)\n",
    "end"
   ]
  },
  {
   "cell_type": "code",
   "execution_count": 107,
   "metadata": {},
   "outputs": [
    {
     "data": {
      "text/plain": [
       "(7.7275e-5, 3.655e-6)"
      ]
     },
     "execution_count": 107,
     "metadata": {},
     "output_type": "execute_result"
    }
   ],
   "source": [
    "compare_insertion_merge(10)"
   ]
  },
  {
   "cell_type": "code",
   "execution_count": 117,
   "metadata": {},
   "outputs": [
    {
     "name": "stdout",
     "output_type": "stream",
     "text": [
      "Insertion: [1.8706e-5, 1.459e-5, 4.5841e-5, 0.000130566, 0.000470335, 0.001941183, 0.007801684, 0.041400667, 0.135793875, 0.270779074]\n",
      "Merge    : [2.924e-6, 1.575e-6, 4.881e-6, 7.577e-6, 1.8787e-5, 3.58e-5, 7.6118e-5, 0.000109961, 0.000487549, 0.000392793]\n"
     ]
    }
   ],
   "source": [
    "max_order = 10\n",
    "res_insert = zeros(max_order)\n",
    "res_merge = zeros(max_order)\n",
    "for v in 1:max_order\n",
    "    res_insert[v], res_merge[v] = compare_insertion_merge(2^v)\n",
    "end\n",
    "println(\"Insertion: $res_insert\")\n",
    "println(\"Merge    : $res_merge\")"
   ]
  },
  {
   "cell_type": "code",
   "execution_count": 133,
   "metadata": {},
   "outputs": [
    {
     "data": {
      "application/vnd.plotly.v1+json": {
       "data": [
        {
         "colorbar": {
          "title": ""
         },
         "hoverinfo": "text",
         "legendgroup": "insertion",
         "line": {
          "color": "rgba(0, 154, 250, 1.000)",
          "dash": "solid",
          "shape": "linear",
          "width": 1
         },
         "mode": "lines",
         "name": "insertion",
         "showlegend": true,
         "text": [
          null,
          null,
          null,
          null,
          null,
          null,
          null,
          null,
          null,
          null
         ],
         "type": "scatter",
         "x": [
          2,
          4,
          8,
          16,
          32,
          64,
          128,
          256,
          512,
          1024
         ],
         "xaxis": "x1",
         "y": [
          1.8706e-05,
          1.459e-05,
          4.5841e-05,
          0.000130566,
          0.000470335,
          0.001941183,
          0.007801684,
          0.041400667,
          0.135793875,
          0.270779074
         ],
         "yaxis": "y1",
         "zmax": null,
         "zmin": null
        },
        {
         "colorbar": {
          "title": ""
         },
         "hoverinfo": "text",
         "legendgroup": "merge",
         "line": {
          "color": "rgba(227, 111, 71, 1.000)",
          "dash": "solid",
          "shape": "linear",
          "width": 1
         },
         "mode": "lines",
         "name": "merge",
         "showlegend": true,
         "text": [
          null,
          null,
          null,
          null,
          null,
          null,
          null,
          null,
          null,
          null
         ],
         "type": "scatter",
         "x": [
          2,
          4,
          8,
          16,
          32,
          64,
          128,
          256,
          512,
          1024
         ],
         "xaxis": "x1",
         "y": [
          2.924e-06,
          1.575e-06,
          4.881e-06,
          7.577e-06,
          1.8787e-05,
          3.58e-05,
          7.6118e-05,
          0.000109961,
          0.000487549,
          0.000392793
         ],
         "yaxis": "y1",
         "zmax": null,
         "zmin": null
        }
       ],
       "layout": {
        "annotations": [],
        "height": 400,
        "legend": {
         "bgcolor": "rgba(255, 255, 255, 1.000)",
         "bordercolor": "rgba(0, 0, 0, 1.000)",
         "font": {
          "color": "rgba(0, 0, 0, 1.000)",
          "family": "sans-serif",
          "size": 11
         },
         "tracegroupgap": 0,
         "x": 1,
         "y": 1
        },
        "margin": {
         "b": 20,
         "l": 0,
         "r": 0,
         "t": 20
        },
        "paper_bgcolor": "rgba(255, 255, 255, 1.000)",
        "plot_bgcolor": "rgba(255, 255, 255, 1.000)",
        "showlegend": true,
        "width": 600,
        "xaxis": {
         "anchor": "y1",
         "domain": [
          0.0658209390492855,
          0.9934383202099738
         ],
         "gridcolor": "rgba(0, 0, 0, 0.100)",
         "gridwidth": 0.5,
         "linecolor": "rgba(0, 0, 0, 1.000)",
         "mirror": false,
         "range": [
          -28.66,
          1054.66
         ],
         "showgrid": true,
         "showline": true,
         "showticklabels": true,
         "tickangle": 0,
         "tickcolor": "rgb(0, 0, 0)",
         "tickfont": {
          "color": "rgba(0, 0, 0, 1.000)",
          "family": "sans-serif",
          "size": 11
         },
         "tickmode": "array",
         "ticks": "inside",
         "ticktext": [
          "0",
          "250",
          "500",
          "750",
          "1000"
         ],
         "tickvals": [
          0,
          250,
          500,
          750,
          1000
         ],
         "title": "",
         "titlefont": {
          "color": "rgba(0, 0, 0, 1.000)",
          "family": "sans-serif",
          "size": 15
         },
         "type": "-",
         "visible": true,
         "zeroline": false,
         "zerolinecolor": "rgba(0, 0, 0, 1.000)"
        },
        "yaxis": {
         "anchor": "x1",
         "domain": [
          0.03762029746281716,
          0.9901574803149606
         ],
         "gridcolor": "rgba(0, 0, 0, 0.100)",
         "gridwidth": 0.5,
         "linecolor": "rgba(0, 0, 0, 1.000)",
         "mirror": false,
         "range": [
          -0.00812174997,
          0.27890239897
         ],
         "showgrid": true,
         "showline": true,
         "showticklabels": true,
         "tickangle": 0,
         "tickcolor": "rgb(0, 0, 0)",
         "tickfont": {
          "color": "rgba(0, 0, 0, 1.000)",
          "family": "sans-serif",
          "size": 11
         },
         "tickmode": "array",
         "ticks": "inside",
         "ticktext": [
          "0.00",
          "0.05",
          "0.10",
          "0.15",
          "0.20",
          "0.25"
         ],
         "tickvals": [
          0,
          0.05,
          0.1,
          0.15,
          0.2,
          0.25
         ],
         "title": "",
         "titlefont": {
          "color": "rgba(0, 0, 0, 1.000)",
          "family": "sans-serif",
          "size": 15
         },
         "type": "-",
         "visible": true,
         "zeroline": false,
         "zerolinecolor": "rgba(0, 0, 0, 1.000)"
        }
       }
      },
      "text/html": [
       "<!DOCTYPE html>\n",
       "<html>\n",
       "    <head>\n",
       "        <title>Plots.jl</title>\n",
       "        <meta http-equiv=\"content-type\" content=\"text/html; charset=UTF-8\">\n",
       "        <script src=\"https://cdn.plot.ly/plotly-latest.min.js\"></script>\n",
       "    </head>\n",
       "    <body>\n",
       "            <div id=\"65a1e7b8-26cc-4dd1-b4ce-eb1e645e9afe\" style=\"width:600px;height:400px;\"></div>\n",
       "    <script>\n",
       "    PLOT = document.getElementById('65a1e7b8-26cc-4dd1-b4ce-eb1e645e9afe');\n",
       "    Plotly.plot(PLOT, [\n",
       "    {\n",
       "        \"xaxis\": \"x1\",\n",
       "        \"colorbar\": {\n",
       "            \"title\": \"\"\n",
       "        },\n",
       "        \"yaxis\": \"y1\",\n",
       "        \"text\": [\n",
       "            null,\n",
       "            null,\n",
       "            null,\n",
       "            null,\n",
       "            null,\n",
       "            null,\n",
       "            null,\n",
       "            null,\n",
       "            null,\n",
       "            null\n",
       "        ],\n",
       "        \"x\": [\n",
       "            2.0,\n",
       "            4.0,\n",
       "            8.0,\n",
       "            16.0,\n",
       "            32.0,\n",
       "            64.0,\n",
       "            128.0,\n",
       "            256.0,\n",
       "            512.0,\n",
       "            1024.0\n",
       "        ],\n",
       "        \"showlegend\": true,\n",
       "        \"mode\": \"lines\",\n",
       "        \"name\": \"insertion\",\n",
       "        \"zmin\": null,\n",
       "        \"legendgroup\": \"insertion\",\n",
       "        \"zmax\": null,\n",
       "        \"line\": {\n",
       "            \"color\": \"rgba(0, 154, 250, 1.000)\",\n",
       "            \"shape\": \"linear\",\n",
       "            \"dash\": \"solid\",\n",
       "            \"width\": 1\n",
       "        },\n",
       "        \"y\": [\n",
       "            1.8706e-5,\n",
       "            1.459e-5,\n",
       "            4.5841e-5,\n",
       "            0.000130566,\n",
       "            0.000470335,\n",
       "            0.001941183,\n",
       "            0.007801684,\n",
       "            0.041400667,\n",
       "            0.135793875,\n",
       "            0.270779074\n",
       "        ],\n",
       "        \"type\": \"scatter\",\n",
       "        \"hoverinfo\": \"text\"\n",
       "    },\n",
       "    {\n",
       "        \"xaxis\": \"x1\",\n",
       "        \"colorbar\": {\n",
       "            \"title\": \"\"\n",
       "        },\n",
       "        \"yaxis\": \"y1\",\n",
       "        \"text\": [\n",
       "            null,\n",
       "            null,\n",
       "            null,\n",
       "            null,\n",
       "            null,\n",
       "            null,\n",
       "            null,\n",
       "            null,\n",
       "            null,\n",
       "            null\n",
       "        ],\n",
       "        \"x\": [\n",
       "            2.0,\n",
       "            4.0,\n",
       "            8.0,\n",
       "            16.0,\n",
       "            32.0,\n",
       "            64.0,\n",
       "            128.0,\n",
       "            256.0,\n",
       "            512.0,\n",
       "            1024.0\n",
       "        ],\n",
       "        \"showlegend\": true,\n",
       "        \"mode\": \"lines\",\n",
       "        \"name\": \"merge\",\n",
       "        \"zmin\": null,\n",
       "        \"legendgroup\": \"merge\",\n",
       "        \"zmax\": null,\n",
       "        \"line\": {\n",
       "            \"color\": \"rgba(227, 111, 71, 1.000)\",\n",
       "            \"shape\": \"linear\",\n",
       "            \"dash\": \"solid\",\n",
       "            \"width\": 1\n",
       "        },\n",
       "        \"y\": [\n",
       "            2.924e-6,\n",
       "            1.575e-6,\n",
       "            4.881e-6,\n",
       "            7.577e-6,\n",
       "            1.8787e-5,\n",
       "            3.58e-5,\n",
       "            7.6118e-5,\n",
       "            0.000109961,\n",
       "            0.000487549,\n",
       "            0.000392793\n",
       "        ],\n",
       "        \"type\": \"scatter\",\n",
       "        \"hoverinfo\": \"text\"\n",
       "    }\n",
       "]\n",
       ", {\n",
       "    \"showlegend\": true,\n",
       "    \"xaxis\": {\n",
       "        \"showticklabels\": true,\n",
       "        \"gridwidth\": 0.5,\n",
       "        \"tickvals\": [\n",
       "            0.0,\n",
       "            250.0,\n",
       "            500.0,\n",
       "            750.0,\n",
       "            1000.0\n",
       "        ],\n",
       "        \"visible\": true,\n",
       "        \"ticks\": \"inside\",\n",
       "        \"range\": [\n",
       "            -28.66,\n",
       "            1054.66\n",
       "        ],\n",
       "        \"domain\": [\n",
       "            0.0658209390492855,\n",
       "            0.9934383202099738\n",
       "        ],\n",
       "        \"tickmode\": \"array\",\n",
       "        \"linecolor\": \"rgba(0, 0, 0, 1.000)\",\n",
       "        \"showgrid\": true,\n",
       "        \"title\": \"\",\n",
       "        \"mirror\": false,\n",
       "        \"tickangle\": 0,\n",
       "        \"showline\": true,\n",
       "        \"gridcolor\": \"rgba(0, 0, 0, 0.100)\",\n",
       "        \"titlefont\": {\n",
       "            \"color\": \"rgba(0, 0, 0, 1.000)\",\n",
       "            \"family\": \"sans-serif\",\n",
       "            \"size\": 15\n",
       "        },\n",
       "        \"tickcolor\": \"rgb(0, 0, 0)\",\n",
       "        \"ticktext\": [\n",
       "            \"0\",\n",
       "            \"250\",\n",
       "            \"500\",\n",
       "            \"750\",\n",
       "            \"1000\"\n",
       "        ],\n",
       "        \"zeroline\": false,\n",
       "        \"type\": \"-\",\n",
       "        \"tickfont\": {\n",
       "            \"color\": \"rgba(0, 0, 0, 1.000)\",\n",
       "            \"family\": \"sans-serif\",\n",
       "            \"size\": 11\n",
       "        },\n",
       "        \"zerolinecolor\": \"rgba(0, 0, 0, 1.000)\",\n",
       "        \"anchor\": \"y1\"\n",
       "    },\n",
       "    \"paper_bgcolor\": \"rgba(255, 255, 255, 1.000)\",\n",
       "    \"annotations\": [],\n",
       "    \"height\": 400,\n",
       "    \"margin\": {\n",
       "        \"l\": 0,\n",
       "        \"b\": 20,\n",
       "        \"r\": 0,\n",
       "        \"t\": 20\n",
       "    },\n",
       "    \"plot_bgcolor\": \"rgba(255, 255, 255, 1.000)\",\n",
       "    \"yaxis\": {\n",
       "        \"showticklabels\": true,\n",
       "        \"gridwidth\": 0.5,\n",
       "        \"tickvals\": [\n",
       "            0.0,\n",
       "            0.05,\n",
       "            0.1,\n",
       "            0.15,\n",
       "            0.2,\n",
       "            0.25\n",
       "        ],\n",
       "        \"visible\": true,\n",
       "        \"ticks\": \"inside\",\n",
       "        \"range\": [\n",
       "            -0.00812174997,\n",
       "            0.27890239897\n",
       "        ],\n",
       "        \"domain\": [\n",
       "            0.03762029746281716,\n",
       "            0.9901574803149606\n",
       "        ],\n",
       "        \"tickmode\": \"array\",\n",
       "        \"linecolor\": \"rgba(0, 0, 0, 1.000)\",\n",
       "        \"showgrid\": true,\n",
       "        \"title\": \"\",\n",
       "        \"mirror\": false,\n",
       "        \"tickangle\": 0,\n",
       "        \"showline\": true,\n",
       "        \"gridcolor\": \"rgba(0, 0, 0, 0.100)\",\n",
       "        \"titlefont\": {\n",
       "            \"color\": \"rgba(0, 0, 0, 1.000)\",\n",
       "            \"family\": \"sans-serif\",\n",
       "            \"size\": 15\n",
       "        },\n",
       "        \"tickcolor\": \"rgb(0, 0, 0)\",\n",
       "        \"ticktext\": [\n",
       "            \"0.00\",\n",
       "            \"0.05\",\n",
       "            \"0.10\",\n",
       "            \"0.15\",\n",
       "            \"0.20\",\n",
       "            \"0.25\"\n",
       "        ],\n",
       "        \"zeroline\": false,\n",
       "        \"type\": \"-\",\n",
       "        \"tickfont\": {\n",
       "            \"color\": \"rgba(0, 0, 0, 1.000)\",\n",
       "            \"family\": \"sans-serif\",\n",
       "            \"size\": 11\n",
       "        },\n",
       "        \"zerolinecolor\": \"rgba(0, 0, 0, 1.000)\",\n",
       "        \"anchor\": \"x1\"\n",
       "    },\n",
       "    \"legend\": {\n",
       "        \"tracegroupgap\": 0,\n",
       "        \"bordercolor\": \"rgba(0, 0, 0, 1.000)\",\n",
       "        \"bgcolor\": \"rgba(255, 255, 255, 1.000)\",\n",
       "        \"font\": {\n",
       "            \"color\": \"rgba(0, 0, 0, 1.000)\",\n",
       "            \"family\": \"sans-serif\",\n",
       "            \"size\": 11\n",
       "        },\n",
       "        \"y\": 1.0,\n",
       "        \"x\": 1.0\n",
       "    },\n",
       "    \"width\": 600\n",
       "}\n",
       ");\n",
       "    </script>\n",
       "\n",
       "    </body>\n",
       "</html>\n"
      ]
     },
     "execution_count": 133,
     "metadata": {},
     "output_type": "execute_result"
    }
   ],
   "source": [
    "using Plots\n",
    "x = 1:max_order\n",
    "x = 2 .^x\n",
    "plot(x, res_insert, label=\"insertion\")\n",
    "plot!(x, res_merge, label=\"merge\")"
   ]
  }
 ],
 "metadata": {
  "kernelspec": {
   "display_name": "Julia 1.3.1",
   "language": "julia",
   "name": "julia-1.3"
  },
  "language_info": {
   "file_extension": ".jl",
   "mimetype": "application/julia",
   "name": "julia",
   "version": "1.3.1"
  }
 },
 "nbformat": 4,
 "nbformat_minor": 2
}
